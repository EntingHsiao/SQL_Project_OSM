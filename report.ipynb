{
 "cells": [
  {
   "cell_type": "markdown",
   "metadata": {},
   "source": [
    "# Analyze OpenStreetMap Data with SQL"
   ]
  },
  {
   "cell_type": "markdown",
   "metadata": {},
   "source": [
    "*Connie Hsiao*"
   ]
  },
  {
   "cell_type": "markdown",
   "metadata": {},
   "source": [
    "## Introduction"
   ]
  },
  {
   "cell_type": "markdown",
   "metadata": {},
   "source": [
    "OpenStreetMap (OSM) is a collaborative project to create a free editable map of the world. In this project, I will use the CSV file which is extracted from OSM and explore the dataset with SQL queries."
   ]
  },
  {
   "cell_type": "markdown",
   "metadata": {},
   "source": [
    "## Map Area "
   ]
  },
  {
   "cell_type": "markdown",
   "metadata": {},
   "source": [
    "** Boston, Massachusetts, US** https://mapzen.com/data/metro-extracts/metro/boston_massachusetts/"
   ]
  },
  {
   "cell_type": "markdown",
   "metadata": {},
   "source": [
    "## Create SQL database from CSV files"
   ]
  },
  {
   "cell_type": "code",
   "execution_count": 1,
   "metadata": {
    "collapsed": true
   },
   "outputs": [],
   "source": [
    "# Creates the SQL database\n",
    "\n",
    "import sqlite3\n",
    "import pprint\n",
    "import csv\n",
    "\n",
    "conn=sqlite3.connect('boston.db')\n",
    "conn.text_factory = str\n",
    "cur=conn.cursor()"
   ]
  },
  {
   "cell_type": "markdown",
   "metadata": {},
   "source": [
    "### nodes Table"
   ]
  },
  {
   "cell_type": "code",
   "execution_count": 41,
   "metadata": {
    "collapsed": false
   },
   "outputs": [],
   "source": [
    "# Creates the \"nodes\" table in the database\n",
    "\n",
    "cur.execute('''CREATE TABLE nodes(\n",
    "    id INTEGER PRIMARY KEY NOT NULL,\n",
    "    lat REAL,\n",
    "    lon REAL,\n",
    "    user TEXT,\n",
    "    uid INTEGER,\n",
    "    version INTEGER,\n",
    "    changeset INTEGER,\n",
    "    timestamp TEXT);''') "
   ]
  },
  {
   "cell_type": "code",
   "execution_count": 98,
   "metadata": {
    "collapsed": false
   },
   "outputs": [],
   "source": [
    "# Inserting values to the \"nodes\" table from CSV files\n",
    "with open('nodes.csv', 'rb') as table:\n",
    "    dicts = csv.DictReader(table)\n",
    "    to_db = ((i['id'], i['lat'],i['lon'],i['user'],i['uid'],i['version'],i['changeset'],i['timestamp']) for i in dicts) \n",
    "    cur.executemany(\"INSERT INTO nodes (id, lat, lon, user, uid, version, changeset, timestamp) VALUES (?,?,?,?,?,?,?,?);\", to_db)\n",
    "conn.commit()"
   ]
  },
  {
   "cell_type": "markdown",
   "metadata": {},
   "source": [
    "### nodes_tags Table"
   ]
  },
  {
   "cell_type": "code",
   "execution_count": 57,
   "metadata": {
    "collapsed": false
   },
   "outputs": [
    {
     "data": {
      "text/plain": [
       "<sqlite3.Cursor at 0x23a723c70>"
      ]
     },
     "execution_count": 57,
     "metadata": {},
     "output_type": "execute_result"
    }
   ],
   "source": [
    "# Creates the \"nodes_tags\" table in the database\n",
    "cur.execute('''CREATE TABLE nodes_tags (\n",
    "    id INTEGER,\n",
    "    key TEXT,\n",
    "    value TEXT,\n",
    "    type TEXT,\n",
    "    FOREIGN KEY (id) REFERENCES nodes(id));''') "
   ]
  },
  {
   "cell_type": "code",
   "execution_count": 58,
   "metadata": {
    "collapsed": true
   },
   "outputs": [],
   "source": [
    "# Inserting values to the \"nodes_tags\" table from CSV files\n",
    "with open ('nodes_tags.csv', 'rb') as table:\n",
    "    dicts = csv.DictReader(table)\n",
    "    to_db = ((i['id'], i['key'],i['value'],i['type']) for i in dicts)  \n",
    "    cur.executemany(\"INSERT INTO nodes_tags (id, key,value,type) VALUES (?,?,?,?);\", to_db)\n",
    "conn.commit()"
   ]
  },
  {
   "cell_type": "code",
   "execution_count": 168,
   "metadata": {
    "collapsed": false
   },
   "outputs": [
    {
     "name": "stdout",
     "output_type": "stream",
     "text": [
      "[(31419556, 'name', 'Firebrand Saints', 'regular'), (31419556, 'amenity', 'restaurant', 'regular'), (31419650, 'url', 'http://www.mbta.com/schedules_and_maps/subway/lines/stations/?stopId=12412', 'regular'), (31419650, 'name', 'Kendall/MIT', 'regular'), (31419650, 'railway', 'subway_entrance', 'regular')]\n"
     ]
    }
   ],
   "source": [
    "#Test if the insertion is successful\n",
    "query = ''' SELECT * FROM nodes_tags limit 5; \n",
    "'''\n",
    "result=cur.execute(query).fetchall()\n",
    "print result"
   ]
  },
  {
   "cell_type": "markdown",
   "metadata": {},
   "source": [
    "### ways Table"
   ]
  },
  {
   "cell_type": "code",
   "execution_count": 61,
   "metadata": {
    "collapsed": false
   },
   "outputs": [
    {
     "data": {
      "text/plain": [
       "<sqlite3.Cursor at 0x23a723c70>"
      ]
     },
     "execution_count": 61,
     "metadata": {},
     "output_type": "execute_result"
    }
   ],
   "source": [
    "# Creates the \"ways\" table in the database\n",
    "cur.execute('''CREATE TABLE ways(\n",
    "id INTEGER PRIMARY KEY NOT NULL,\n",
    "user TEXT,\n",
    "uid INTEGER,\n",
    "version TEXT,\n",
    "changeset INTEGER,\n",
    "timestamp, TEXT);''' )"
   ]
  },
  {
   "cell_type": "code",
   "execution_count": 64,
   "metadata": {
    "collapsed": false
   },
   "outputs": [],
   "source": [
    "# Inserting values to the \"ways\" table from CSV files\n",
    "with open ('ways.csv','rb') as table:\n",
    "    dicts=csv.DictReader(table)\n",
    "    to_db=((i['id'],i['user'],i['uid'],i['version'],i['changeset'],i['timestamp'])for i in dicts)\n",
    "    cur.executemany(\"INSERT INTO ways (id,user,uid,version,changeset,timestamp) VALUES (?,?,?,?,?,?);\",to_db)\n",
    "conn.commit()\n"
   ]
  },
  {
   "cell_type": "code",
   "execution_count": 169,
   "metadata": {
    "collapsed": false,
    "scrolled": false
   },
   "outputs": [
    {
     "name": "stdout",
     "output_type": "stream",
     "text": [
      "(0, 'id', 'INTEGER', 0, None, 0)\n",
      "(1, 'key', 'TEXT', 0, None, 0)\n",
      "(2, 'value', 'TEXT', 0, None, 0)\n",
      "(3, 'type', 'TEXT', 0, None, 0)\n"
     ]
    }
   ],
   "source": [
    "#check if the insertion is successful \n",
    "for row in cur.execute(\"pragma table_info('nodes_tags')\").fetchall():\n",
    "    print row"
   ]
  },
  {
   "cell_type": "markdown",
   "metadata": {},
   "source": [
    "### ways_tags Table"
   ]
  },
  {
   "cell_type": "code",
   "execution_count": 67,
   "metadata": {
    "collapsed": false
   },
   "outputs": [
    {
     "data": {
      "text/plain": [
       "<sqlite3.Cursor at 0x23a723c70>"
      ]
     },
     "execution_count": 67,
     "metadata": {},
     "output_type": "execute_result"
    }
   ],
   "source": [
    "# Creates the \"ways_tags\" table in the database\n",
    "cur.execute('''CREATE TABLE ways_tags(\n",
    "    id INTEGER NOT NULL,\n",
    "    key TEXT NOT NULL,\n",
    "    value TEXT NOT NULL,\n",
    "    type TEXT,\n",
    "    FOREIGN KEY (id) REFERENCES ways (id));''')"
   ]
  },
  {
   "cell_type": "code",
   "execution_count": 68,
   "metadata": {
    "collapsed": true
   },
   "outputs": [],
   "source": [
    "# Inserting values to the \"ways_tags\" table from CSV files\n",
    "with open ('ways_tags.csv','rb') as table:\n",
    "    dicts=csv.DictReader(table)\n",
    "    to_db=((i['id'],i['key'],i['value'],i['type'])for i in dicts)\n",
    "    cur.executemany (\"INSERT INTO ways_tags (id, key, value, type) VALUES (?,?,?,?);\", to_db)\n",
    "conn.commit()\n"
   ]
  },
  {
   "cell_type": "markdown",
   "metadata": {},
   "source": [
    "### ways_nodes Table"
   ]
  },
  {
   "cell_type": "code",
   "execution_count": 74,
   "metadata": {
    "collapsed": false
   },
   "outputs": [
    {
     "data": {
      "text/plain": [
       "<sqlite3.Cursor at 0x23a723c70>"
      ]
     },
     "execution_count": 74,
     "metadata": {},
     "output_type": "execute_result"
    }
   ],
   "source": [
    "# Creates the \"ways_nodes\" table in the database\n",
    "cur.execute('''CREATE TABLE ways_nodes(\n",
    "    id INTEGER NOT NULL,\n",
    "    node_id INTEGER NOT NULL,\n",
    "    position INTEGER NOT NULL,\n",
    "    FOREIGN KEY (id) REFERENCES ways (id),\n",
    "    FOREIGN KEY (node_id) REFERENCES nodes(id));''')"
   ]
  },
  {
   "cell_type": "code",
   "execution_count": 75,
   "metadata": {
    "collapsed": true
   },
   "outputs": [],
   "source": [
    "# Inserting values to the \"ways_nodes\" table from CSV files\n",
    "\n",
    "with open ('ways_nodes.csv', 'rb') as table:\n",
    "    dicts=csv.DictReader(table)\n",
    "    to_db=((i['id'], i['node_id'],i['position']) for i in dicts) \n",
    "    cur.executemany(\"INSERT INTO ways_nodes(id, node_id,position) VALUES (?,?,?);\", to_db)\n",
    "conn.commit()"
   ]
  },
  {
   "cell_type": "markdown",
   "metadata": {},
   "source": [
    "## Data Overview"
   ]
  },
  {
   "cell_type": "markdown",
   "metadata": {},
   "source": [
    "### Tables in the Database"
   ]
  },
  {
   "cell_type": "code",
   "execution_count": 3,
   "metadata": {
    "collapsed": false
   },
   "outputs": [
    {
     "name": "stdout",
     "output_type": "stream",
     "text": [
      "[('nodes_tags',), ('ways',), ('ways_tags',), ('ways_nodes',), ('nodes',)]\n"
     ]
    }
   ],
   "source": [
    "cur.execute(\"SELECT name FROM sqlite_master WHERE type='table';\")\n",
    "print(cur.fetchall())"
   ]
  },
  {
   "cell_type": "markdown",
   "metadata": {},
   "source": [
    "### Data Size"
   ]
  },
  {
   "cell_type": "code",
   "execution_count": 4,
   "metadata": {
    "collapsed": false,
    "scrolled": true
   },
   "outputs": [
    {
     "name": "stdout",
     "output_type": "stream",
     "text": [
      "file 'nodes.csv' is 151.8 MB\n",
      "file 'nodes_tags.csv' is 16.9 MB\n",
      "file 'ways.csv' is 20.0 MB\n",
      "file 'ways_tags.csv' is 21.5 MB\n",
      "file 'ways_nodes.csv' is 52.3 MB\n"
     ]
    }
   ],
   "source": [
    "import os\n",
    "files_lst = ['nodes.csv', 'nodes_tags.csv', 'ways.csv', 'ways_tags.csv', 'ways_nodes.csv']\n",
    "for i in files_lst: \n",
    "    print \"file {!r} is {!s} MB\".format(i,round(os.path.getsize(i)/(1024*1024.0),1))\n"
   ]
  },
  {
   "cell_type": "markdown",
   "metadata": {},
   "source": [
    "### Number Of Nodes"
   ]
  },
  {
   "cell_type": "code",
   "execution_count": 5,
   "metadata": {
    "collapsed": false
   },
   "outputs": [
    {
     "name": "stdout",
     "output_type": "stream",
     "text": [
      "1931442\n"
     ]
    }
   ],
   "source": [
    "query ='''\n",
    "SELECT count(*) FROM nodes;\n",
    "'''\n",
    "result = cur.execute(query).fetchall()\n",
    "print result [0][0]\n"
   ]
  },
  {
   "cell_type": "markdown",
   "metadata": {},
   "source": [
    "There are 1,931,442 nodes in the data."
   ]
  },
  {
   "cell_type": "markdown",
   "metadata": {},
   "source": [
    "### Number Of Ways"
   ]
  },
  {
   "cell_type": "code",
   "execution_count": 6,
   "metadata": {
    "collapsed": false
   },
   "outputs": [
    {
     "name": "stdout",
     "output_type": "stream",
     "text": [
      "309066\n"
     ]
    }
   ],
   "source": [
    "query ='''\n",
    "SELECT count(*) FROM ways;\n",
    "'''\n",
    "result=cur.execute(query).fetchall()\n",
    "print result[0][0]"
   ]
  },
  {
   "cell_type": "markdown",
   "metadata": {},
   "source": [
    "There are 309,066 ways."
   ]
  },
  {
   "cell_type": "markdown",
   "metadata": {},
   "source": [
    "## Data Exploration"
   ]
  },
  {
   "cell_type": "markdown",
   "metadata": {},
   "source": [
    "This section focus on the analytics about the dataset; using SQL queries to gather the statistics.\n"
   ]
  },
  {
   "cell_type": "markdown",
   "metadata": {},
   "source": [
    "### Number Of Unique Users"
   ]
  },
  {
   "cell_type": "code",
   "execution_count": 7,
   "metadata": {
    "collapsed": false
   },
   "outputs": [
    {
     "name": "stdout",
     "output_type": "stream",
     "text": [
      "1295\n"
     ]
    }
   ],
   "source": [
    "query ='''\n",
    "SELECT COUNT(uid) FROM (SELECT uid from nodes UNION SELECT uid from ways)\n",
    "'''\n",
    "result=cur.execute(query).fetchall()\n",
    "print result[0][0]"
   ]
  },
  {
   "cell_type": "markdown",
   "metadata": {},
   "source": [
    "There are 1,295 users contributed to the the data. "
   ]
  },
  {
   "cell_type": "markdown",
   "metadata": {},
   "source": [
    "### Number of Schools"
   ]
  },
  {
   "cell_type": "code",
   "execution_count": 8,
   "metadata": {
    "collapsed": false
   },
   "outputs": [
    {
     "name": "stdout",
     "output_type": "stream",
     "text": [
      "515\n"
     ]
    }
   ],
   "source": [
    "query = ''' SELECT COUNT(*) FROM nodes_tags WHERE value = 'school'\n",
    "\n",
    "'''\n",
    "result=cur.execute(query).fetchall()\n",
    "print result[0][0]"
   ]
  },
  {
   "cell_type": "markdown",
   "metadata": {},
   "source": [
    "There are 515 schools in this district."
   ]
  },
  {
   "cell_type": "markdown",
   "metadata": {},
   "source": [
    "### Top 10 Contributing Users "
   ]
  },
  {
   "cell_type": "code",
   "execution_count": 9,
   "metadata": {
    "collapsed": false
   },
   "outputs": [
    {
     "name": "stdout",
     "output_type": "stream",
     "text": [
      "1034 crschmidt : 1202965\n",
      "1137433 jremillard-massgis : 430112\n",
      "354704 OceanVortex : 92067\n",
      "326503 wambag : 80064\n",
      "221294 morganwahl : 69535\n",
      "3216582 ryebread : 67063\n",
      "15750 MassGIS Import : 63277\n",
      "1137518 ingalls_imports : 32461\n",
      "81285 Ahlzen : 27154\n",
      "165061 mapper999 : 14967\n"
     ]
    }
   ],
   "source": [
    "query ='''SELECT uid, user, COUNT(*) as SUM FROM (SELECT uid, user FROM nodes UNION ALL SELECT uid, user FROM ways) \n",
    "GROUP BY uid ORDER BY sum DESC LIMIT 10;\n",
    "'''\n",
    "result =cur.execute(query).fetchall()\n",
    "for a, b, c in result:\n",
    "    print a, b ,':', c"
   ]
  },
  {
   "cell_type": "markdown",
   "metadata": {},
   "source": [
    "### Number of Users With Only 1 Contribution"
   ]
  },
  {
   "cell_type": "code",
   "execution_count": 10,
   "metadata": {
    "collapsed": false
   },
   "outputs": [
    {
     "name": "stdout",
     "output_type": "stream",
     "text": [
      "355\n"
     ]
    }
   ],
   "source": [
    "query =''' SELECT COUNT(*) FROM (SELECT uid, user, COUNT(*) as sum FROM (SELECT uid, user FROM nodes UNION ALL SELECT uid, user FROM ways) \n",
    "GROUP BY uid HAVING sum = 1);\n",
    "'''\n",
    "result=cur.execute(query).fetchall()\n",
    "print result [0][0]\n"
   ]
  },
  {
   "cell_type": "markdown",
   "metadata": {},
   "source": [
    "There are 355 users who contribute only 1 entry, among the total 1295 users."
   ]
  },
  {
   "cell_type": "markdown",
   "metadata": {},
   "source": [
    "### Cities Other Than Boston"
   ]
  },
  {
   "cell_type": "code",
   "execution_count": 11,
   "metadata": {
    "collapsed": false
   },
   "outputs": [
    {
     "name": "stdout",
     "output_type": "stream",
     "text": [
      "The top 10 \"Non-Boston\" cities with most records:\n",
      "Cambridge : 556\n",
      "Malden : 413\n",
      "Arlington : 285\n",
      "Somerville : 245\n",
      "Jamaica Plain : 96\n",
      "Quincy : 55\n",
      "Chelsea : 43\n",
      "Brookline : 40\n",
      "Medford : 34\n",
      "Weymouth : 34\n",
      "The numbers of the cities other than Boston in the data: 49\n"
     ]
    }
   ],
   "source": [
    "query = ''' SELECT value, COUNT(*) as sum FROM (SELECT * FROM nodes_tags UNION SELECT * FROM ways_tags)\n",
    "WHERE key = 'city' and NOT value LIKE 'Boston' \n",
    "GROUP BY value ORDER BY sum DESC LIMIT 10;\n",
    "'''\n",
    "row=cur.execute(query).fetchall()\n",
    "print 'The top 10 \"Non-Boston\" cities with most records:'\n",
    "for a, b in row: \n",
    "    print a, ':', b\n",
    "\n",
    "query='''SELECT COUNT(*) FROM (SELECT value, COUNT(*) as sum FROM (SELECT * FROM nodes_tags UNION SELECT * FROM ways_tags)\n",
    "WHERE key = 'city' and NOT value LIKE 'Boston' \n",
    "GROUP BY value ) as sub;'''\n",
    "\n",
    "result= cur.execute(query).fetchall()\n",
    "\n",
    "print'The numbers of the cities other than Boston in the data:', result[0][0]\n",
    "                    "
   ]
  },
  {
   "cell_type": "markdown",
   "metadata": {},
   "source": [
    "### Top Postal Codes"
   ]
  },
  {
   "cell_type": "code",
   "execution_count": 12,
   "metadata": {
    "collapsed": false
   },
   "outputs": [
    {
     "name": "stdout",
     "output_type": "stream",
     "text": [
      "02139 : 431\n",
      "02135 : 268\n",
      "02130 : 182\n",
      "02134 : 162\n",
      "02474 : 133\n",
      "02144 : 117\n",
      "02138 : 97\n",
      "02114 : 86\n",
      "02143 : 67\n",
      "02145 : 64\n"
     ]
    }
   ],
   "source": [
    "query='''SELECT value, COUNT(*) as SUM FROM (SELECT * FROM nodes_tags UNION SELECT * FROM ways_tags)\n",
    "WHERE key= 'postcode'\n",
    "GROUP BY value\n",
    "ORDER BY SUM DESC LIMIT 10;\n",
    "'''\n",
    "\n",
    "result=cur.execute(query).fetchall()\n",
    "for a,b in result:\n",
    "    print a, ':', b\n"
   ]
  },
  {
   "cell_type": "markdown",
   "metadata": {
    "collapsed": true
   },
   "source": [
    "###  Amenities By Count"
   ]
  },
  {
   "cell_type": "code",
   "execution_count": 42,
   "metadata": {
    "collapsed": false
   },
   "outputs": [
    {
     "name": "stdout",
     "output_type": "stream",
     "text": [
      "The amenities with more than 10 entries:\n",
      "bench : 1060\n",
      "restaurant : 602\n",
      "school : 509\n",
      "place_of_worship : 287\n",
      "library : 280\n",
      "bicycle_parking : 273\n",
      "cafe : 248\n",
      "fast_food : 184\n",
      "bicycle_rental : 138\n",
      "post_box : 114\n",
      "waste_basket : 95\n",
      "fire_station : 89\n",
      "parking : 86\n",
      "hospital : 77\n",
      "bank : 76\n",
      "fountain : 67\n",
      "fuel : 65\n",
      "pub : 60\n",
      "atm : 54\n",
      "bar : 52\n",
      "pharmacy : 45\n",
      "post_office : 45\n",
      "police : 43\n",
      "drinking_water : 40\n",
      "toilets : 40\n",
      "car_sharing : 36\n",
      "bicycle_repair_station : 29\n",
      "theatre : 23\n",
      "grave_yard : 18\n",
      "recycling : 17\n",
      "telephone : 17\n",
      "university : 17\n",
      "ferry_terminal : 16\n",
      "car_rental : 13\n",
      "college : 12\n",
      "parking_entrance : 12\n",
      "townhall : 10\n"
     ]
    }
   ],
   "source": [
    "query =''' SELECT value, COUNT(*) as sum FROM nodes_tags WHERE key= 'amenity'\n",
    "GROUP BY value HAVING sum > 9 ORDER BY sum DESC \n",
    "'''\n",
    "result=cur.execute(query).fetchall()\n",
    "print 'The amenities with more than 10 entries:'\n",
    "for a, b in result:\n",
    "    print a, ':', b\n"
   ]
  },
  {
   "cell_type": "markdown",
   "metadata": {},
   "source": [
    "The top 5 aminities with most records in descending order are: Bench, Restaurant, school, place of worship and library."
   ]
  },
  {
   "cell_type": "markdown",
   "metadata": {},
   "source": [
    "### Most Popular Cuisines "
   ]
  },
  {
   "cell_type": "code",
   "execution_count": 14,
   "metadata": {
    "collapsed": false
   },
   "outputs": [
    {
     "name": "stdout",
     "output_type": "stream",
     "text": [
      "pizza : 38\n",
      "american : 35\n",
      "italian : 31\n",
      "chinese : 29\n",
      "mexican : 27\n",
      "indian : 21\n",
      "thai : 19\n",
      "asian : 13\n",
      "japanese : 12\n",
      "regional : 12\n"
     ]
    }
   ],
   "source": [
    "query = ''' SELECT value, count(*) as sum FROM nodes_tags, \n",
    "(SELECT DISTINCT(id) FROM nodes_tags WHERE value = 'restaurant')as sub\n",
    "WHERE nodes_tags.id = sub.id and nodes_tags.key = 'cuisine' \n",
    "GROUP BY value ORDER BY sum DESC LIMIT 10;\n",
    "'''\n",
    "result= cur.execute(query).fetchall()\n",
    "for a, b in result:\n",
    "    print a,':', b"
   ]
  },
  {
   "cell_type": "markdown",
   "metadata": {
    "collapsed": true
   },
   "source": [
    "The top 5 most popular cuisines in descending order are: Pizza, American, Italian, Chinese and Mexican"
   ]
  },
  {
   "cell_type": "code",
   "execution_count": 38,
   "metadata": {
    "collapsed": false
   },
   "outputs": [
    {
     "name": "stdout",
     "output_type": "stream",
     "text": [
      "Populating the interactive namespace from numpy and matplotlib\n"
     ]
    },
    {
     "data": {
      "text/plain": [
       "<matplotlib.text.Text at 0x11bcc3990>"
      ]
     },
     "execution_count": 38,
     "metadata": {},
     "output_type": "execute_result"
    },
    {
     "data": {
      "image/png": "[encoded data removed]",
      "text/plain": [
       "<matplotlib.figure.Figure at 0x11c575ad0>"
      ]
     },
     "metadata": {},
     "output_type": "display_data"
    }
   ],
   "source": [
    "import pandas as pd\n",
    "import seaborn as sns\n",
    "from sqlalchemy import create_engine\n",
    "\n",
    "%pylab inline\n",
    "\n",
    "disk_engine = create_engine('sqlite:///boston.db')\n",
    "\n",
    "df = pd.read_sql_query('SELECT value, count(*) as sum FROM nodes_tags,' \n",
    "'(SELECT DISTINCT(id) FROM nodes_tags WHERE value = \"restaurant\")as sub '\n",
    "'WHERE nodes_tags.id = sub.id and nodes_tags.key = \"cuisine\" ' \n",
    "'GROUP BY value ORDER BY sum DESC LIMIT 10;', disk_engine)\n",
    "\n",
    "sns.set_style(\"whitegrid\")\n",
    "plot1= sns.barplot(x=\"value\", y=\"sum\", data=df)\n",
    "plot1.set_xticklabels(plot1.get_xticklabels(), rotation=30)\n",
    "plot1.set(xlabel='Cuisine', ylabel='Sum')\n",
    "plot1.set_title('Top 10 Popular Cuisines in Boston')"
   ]
  },
  {
   "cell_type": "markdown",
   "metadata": {},
   "source": [
    "### Religion Practice"
   ]
  },
  {
   "cell_type": "code",
   "execution_count": 245,
   "metadata": {
    "collapsed": false
   },
   "outputs": [
    {
     "name": "stdout",
     "output_type": "stream",
     "text": [
      "christian : 255\n",
      "jewish : 10\n",
      "unitarian : 3\n",
      "buddhist : 1\n",
      "muslim : 1\n",
      "unitarian_universalist : 1\n"
     ]
    }
   ],
   "source": [
    "query = ''' SELECT value, COUNT(*) as sum FROM nodes_tags,\n",
    "(SELECT DISTINCT(id) FROM nodes_tags WHERE value = 'place_of_worship') as sub\n",
    "WHERE nodes_tags.id = sub.id AND key = 'religion'\n",
    "GROUP BY value\n",
    "ORDER BY sum DESC;\n",
    "'''\n",
    "result=cur.execute(query).fetchall()\n",
    "\n",
    "for a, b in result:\n",
    "    print a, ':', b\n"
   ]
  },
  {
   "cell_type": "markdown",
   "metadata": {},
   "source": [
    "### Popular Banks"
   ]
  },
  {
   "cell_type": "code",
   "execution_count": 261,
   "metadata": {
    "collapsed": false
   },
   "outputs": [
    {
     "name": "stdout",
     "output_type": "stream",
     "text": [
      "Bank of America : 15\n",
      "Citizens Bank : 10\n",
      "Eastern Bank : 5\n",
      "TD Bank : 5\n",
      "Cambridge Savings Bank : 3\n",
      "Citibank : 3\n",
      "Brookline Bank : 2\n",
      "East Boston Savings Bank : 2\n",
      "Leader Bank : 2\n",
      "People's United Bank : 2\n"
     ]
    }
   ],
   "source": [
    "query = ''' SELECT value,COUNT(*) AS SUM FROM nodes_tags \n",
    "WHERE key='name' and value LIKE '%Bank%' \n",
    "GROUP BY value\n",
    "ORDER BY SUM DESC LIMIT 10\n",
    "'''\n",
    "result=cur.execute(query).fetchall()\n",
    "for a, b in result:\n",
    "    print a,\":\", b"
   ]
  },
  {
   "cell_type": "code",
   "execution_count": 39,
   "metadata": {
    "collapsed": false
   },
   "outputs": [
    {
     "data": {
      "text/plain": [
       "<matplotlib.text.Text at 0x11c3f8b10>"
      ]
     },
     "execution_count": 39,
     "metadata": {},
     "output_type": "execute_result"
    },
    {
     "data": {
      "image/png": "[encoded data removed]",
      "text/plain": [
       "<matplotlib.figure.Figure at 0x11c328210>"
      ]
     },
     "metadata": {},
     "output_type": "display_data"
    }
   ],
   "source": [
    "df = pd.read_sql_query('SELECT value,COUNT(*) AS SUM FROM nodes_tags '\n",
    "'WHERE key= \"name\" and value LIKE \"%Bank%\" ' \n",
    "'GROUP BY value '\n",
    "'ORDER BY SUM DESC LIMIT 10 ', disk_engine)\n",
    "\n",
    "sns.set_style(\"whitegrid\")\n",
    "plot1= sns.barplot(x=\"value\", y=\"SUM\", data=df)\n",
    "plot1.set_xticklabels(plot1.get_xticklabels(), rotation=90)\n",
    "\n",
    "plot1.set(xlabel='Bank', ylabel='Sum')\n",
    "plot1.set_title('Top 10 Banks in Boston')\n"
   ]
  },
  {
   "cell_type": "markdown",
   "metadata": {},
   "source": [
    "### Popular Coffee"
   ]
  },
  {
   "cell_type": "code",
   "execution_count": 262,
   "metadata": {
    "collapsed": false
   },
   "outputs": [
    {
     "name": "stdout",
     "output_type": "stream",
     "text": [
      "Peet's Coffee : 5\n",
      "Starbucks Coffee : 5\n",
      "1369 Coffee House : 2\n",
      "Flat Black Coffee : 2\n",
      "Starbuck's Coffee : 2\n",
      "7 Pond Coffee Bar : 1\n",
      "Andala Coffee House : 1\n",
      "Bean Towne Coffee House : 1\n",
      "Blue State Coffee : 1\n",
      "Blue State Coffee  : 1\n"
     ]
    }
   ],
   "source": [
    "query = '''SELECT value,COUNT(*) AS SUM FROM nodes_tags \n",
    "WHERE key='name' and value LIKE '%Coffee%' \n",
    "GROUP BY value\n",
    "ORDER BY SUM DESC LIMIT 10\n",
    "\n",
    "'''\n",
    "result=cur.execute(query).fetchall()\n",
    "for a, b in result:\n",
    "    print a,\":\", b"
   ]
  },
  {
   "cell_type": "markdown",
   "metadata": {},
   "source": [
    "Starbucks is the most popular coffee shop in Boston area; there 7 shops (combination of 'Starbucks Coffee' and 'Starbuck's Coffee'), following by Peets's coffee."
   ]
  },
  {
   "cell_type": "markdown",
   "metadata": {},
   "source": [
    "### Popular Fast Food"
   ]
  },
  {
   "cell_type": "code",
   "execution_count": 282,
   "metadata": {
    "collapsed": false
   },
   "outputs": [
    {
     "name": "stdout",
     "output_type": "stream",
     "text": [
      "Dunkin' Donuts : 12\n",
      "Subway : 11\n",
      "McDonald's : 8\n",
      "Burger King : 7\n",
      "Wendy's : 5\n",
      "Anna's Taqueria : 3\n",
      "Chipotle : 3\n",
      "Domino's : 3\n",
      "Sbarro : 3\n",
      "Boloco : 2\n"
     ]
    }
   ],
   "source": [
    "query = ''' SELECT value, COUNT(*)as SUM FROM nodes_tags, (SELECT DISTINCT(id) FROM nodes_tags WHERE value= 'fast_food') as sub\n",
    "WHERE nodes_tags.id=sub.id and key='name'\n",
    "Group by nodes_tags.value\n",
    "Order by SUM DESC LIMIT 10;'''\n",
    "\n",
    "result=cur.execute(query).fetchall()\n",
    "for a, b in result:\n",
    "    print a,':',b\n"
   ]
  },
  {
   "cell_type": "code",
   "execution_count": 40,
   "metadata": {
    "collapsed": false
   },
   "outputs": [
    {
     "data": {
      "text/plain": [
       "<matplotlib.text.Text at 0x11ce4ef50>"
      ]
     },
     "execution_count": 40,
     "metadata": {},
     "output_type": "execute_result"
    },
    {
     "data": {
      "image/png": "[encoded data removed]",
      "text/plain": [
       "<matplotlib.figure.Figure at 0x11c4e7390>"
      ]
     },
     "metadata": {},
     "output_type": "display_data"
    }
   ],
   "source": [
    "df = pd.read_sql_query(\n",
    "    'SELECT value, COUNT(*)as SUM FROM nodes_tags, (SELECT DISTINCT(id) FROM nodes_tags WHERE value= \"fast_food\") as sub '\n",
    "'WHERE nodes_tags.id=sub.id and key=\"name\" '\n",
    "'Group by nodes_tags.value '\n",
    "' Order by SUM DESC LIMIT 10;', disk_engine)\n",
    "\n",
    "sns.set_style(\"whitegrid\")\n",
    "plot1= sns.barplot(x=\"value\", y=\"SUM\", data=df)\n",
    "plot1.set_xticklabels(plot1.get_xticklabels(), rotation=30)\n",
    "plot1.set(xlabel='Fast Food', ylabel='Sum')\n",
    "plot1.set_title('Top 10 Popular Fast Food Restaurant Chains in Boston')\n"
   ]
  },
  {
   "cell_type": "markdown",
   "metadata": {},
   "source": [
    "The people in Boston love donuts! 'Dunkin' Donuts'is the largest fast food chains here followed by Subway and McDonald's.   "
   ]
  },
  {
   "cell_type": "markdown",
   "metadata": {},
   "source": [
    "### Educational Institutions"
   ]
  },
  {
   "cell_type": "code",
   "execution_count": 322,
   "metadata": {
    "collapsed": false
   },
   "outputs": [
    {
     "name": "stdout",
     "output_type": "stream",
     "text": [
      "The numbers of Preschools: 3\n",
      "The numbers of Elementary Schools: 20\n",
      "The numbers of Middle Schools: 22\n",
      "The numbers of High Schools: 34\n",
      "The numbers of colleges: 14\n"
     ]
    }
   ],
   "source": [
    "query1 = ''' SELECT count(*) FROM nodes_tags, \n",
    "(SELECT DISTINCT(id) FROM nodes_tags WHERE value ='school') as sub\n",
    "WHERE nodes_tags.id = sub.id and value LIKE '%High School%'\n",
    "'''\n",
    "\n",
    "query2 = ''' SELECT count(*) FROM nodes_tags, \n",
    "(SELECT DISTINCT(id) FROM nodes_tags WHERE value ='school') as sub\n",
    "WHERE nodes_tags.id = sub.id and value LIKE '%Elementary School%'\n",
    "'''\n",
    "query3 = ''' SELECT count(*) FROM nodes_tags, \n",
    "(SELECT DISTINCT(id) FROM nodes_tags WHERE value ='school') as sub\n",
    "WHERE nodes_tags.id = sub.id and value LIKE '%preschool%'\n",
    "'''\n",
    "\n",
    "query4 = ''' SELECT count(*) FROM nodes_tags, \n",
    "(SELECT DISTINCT(id) FROM nodes_tags WHERE value ='school') as sub\n",
    "WHERE nodes_tags.id = sub.id and value LIKE '%Middle School%'\n",
    "'''\n",
    "\n",
    "query5 = ''' SELECT count(*) FROM nodes_tags, \n",
    "(SELECT DISTINCT(id) FROM nodes_tags WHERE value ='school') as sub\n",
    "WHERE nodes_tags.id = sub.id and value LIKE '%college%'\n",
    "'''\n",
    "\n",
    "result3= cur.execute(query3).fetchall()\n",
    "print 'The numbers of Preschools:',result3[0][0] \n",
    "\n",
    "result2= cur.execute(query2).fetchall()\n",
    "print 'The numbers of Elementary Schools:',result2[0][0]\n",
    "\n",
    "result4= cur.execute(query4).fetchall()\n",
    "print 'The numbers of Middle Schools:',result4[0][0] \n",
    "\n",
    "result1= cur.execute(query1).fetchall()\n",
    "print 'The numbers of High Schools:',result1[0][0] \n",
    "\n",
    "result5= cur.execute(query5).fetchall()\n",
    "print 'The numbers of colleges:',result5[0][0]\n"
   ]
  },
  {
   "cell_type": "markdown",
   "metadata": {},
   "source": [
    "### Data Sources"
   ]
  },
  {
   "cell_type": "code",
   "execution_count": 356,
   "metadata": {
    "collapsed": false
   },
   "outputs": [
    {
     "name": "stdout",
     "output_type": "stream",
     "text": [
      "top 10 sources:\n",
      "massgis_import_v0.1_20071008193615 : 53464\n",
      "massgis_import_v0.1_20071009092358 : 11793\n",
      "massgis_import_v0.1_20071009101959 : 8627\n",
      "massgis_import_v0.1_20071009091249 : 6141\n",
      "massgis_import_v0.1_20071009091627 : 5784\n",
      "massgis_import_v0.1_20071009102616 : 4583\n",
      "massdot_import_081211 : 4534\n",
      "Bing : 3190\n",
      "massgis_import_v0.1_20071009092815 : 2885\n",
      "massgis_import_v0.1_20071009094650 : 2580\n",
      "\n",
      "the sources other than \"massgis\":\n",
      "massdot_import_081211 : 4534\n",
      "Bing : 3190\n",
      "USGS Geonames : 692\n",
      "DEP Wetlands (1:12,000) - April 2007 (http://www.mass.gov/mgis/wetdep.htm) : 688\n",
      "survey : 209\n",
      "Yahoo : 143\n",
      "bing : 98\n",
      "county_import_v0.1 : 92\n",
      "PGS : 81\n",
      "massdot_import_081511 : 70\n"
     ]
    }
   ],
   "source": [
    "query = ''' SELECT value, COUNT(*) as num FROM (SELECT * FROM nodes_tags UNION SELECT * FROM ways_tags)\n",
    "WHERE key ='source' \n",
    "GROUP BY value\n",
    "ORDER BY num DESC LIMIT 10\n",
    "'''\n",
    "result=cur.execute(query).fetchall()\n",
    "print 'top 10 sources:'\n",
    "for a, b in result:\n",
    "    print a,':',b\n",
    "    \n",
    "#There are too many massgis sources under different name, so let's see except for Massgis, what the other sources are.\n",
    "\n",
    "query1 = ''' SELECT value, COUNT(*) as num FROM (SELECT * FROM nodes_tags UNION SELECT * FROM ways_tags)\n",
    "WHERE key ='source'and NOT value LIKE '%massgis_import%'and Not value LIKE '%MassGIS%'\n",
    "GROUP BY value\n",
    "ORDER BY num DESC LIMIT 10\n",
    "'''\n",
    "result1=cur.execute(query1).fetchall()\n",
    "\n",
    "print ''\n",
    "print 'the sources other than \"massgis\":'\n",
    "for a, b in result1:\n",
    "    print a,':',b\n",
    "    "
   ]
  },
  {
   "cell_type": "markdown",
   "metadata": {},
   "source": [
    "MassGis is the largest source of the map.\n",
    "Some other sources that most people are familiar with include 'Bing' and 'Yahoo'."
   ]
  }
 ],
 "metadata": {
  "kernelspec": {
   "display_name": "Python 2",
   "language": "python",
   "name": "python2"
  },
  "language_info": {
   "codemirror_mode": {
    "name": "ipython",
    "version": 2
   },
   "file_extension": ".py",
   "mimetype": "text/x-python",
   "name": "python",
   "nbconvert_exporter": "python",
   "pygments_lexer": "ipython2",
   "version": "2.7.13"
  }
 },
 "nbformat": 4,
 "nbformat_minor": 0
}
